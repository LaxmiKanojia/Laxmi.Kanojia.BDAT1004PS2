{
 "cells": [
  {
   "cell_type": "markdown",
   "id": "26b38ab8",
   "metadata": {},
   "source": [
    "# Problem Set 2"
   ]
  },
  {
   "cell_type": "markdown",
   "id": "fd8ad9bb",
   "metadata": {},
   "source": [
    "## Question 1: Python Module"
   ]
  },
  {
   "cell_type": "code",
   "execution_count": 2,
   "id": "18c01a46",
   "metadata": {},
   "outputs": [
    {
     "data": {
      "text/plain": [
       "6"
      ]
     },
     "execution_count": 2,
     "metadata": {},
     "output_type": "execute_result"
    }
   ],
   "source": [
    "# The final evaluated value of a is 6. \n",
    "\n",
    "a = 0\n",
    "def b():\n",
    "    global a # 1. a is declared as the global variable and has global scope which means a will have the global value which is 0. \n",
    "    a = c(a) # 3. Then a=0 is assigned to the inner function c() and has a local scope to the function c(). The value of a = 2\n",
    "             # 5. Then a=2 is assigned to the inner function c() and has a local scope to the function c(). The value of a = 4\n",
    "             # 7. Then a=4 is assigned to the inner function c() and has a local scope to the function c(). The value of a = 6\n",
    "def c(a):\n",
    "    return a + 2 # 2. c(a) = 0 + 2 = 2 (first execution of function b)\n",
    "                 # 4. c(a) = 2 + 2 = 4 (second execution of function b)\n",
    "                 # 6. c(a) = 4 + 2 = 6 (third execution of function b)\n",
    "b()  \n",
    "b()\n",
    "b()\n",
    "a\n",
    "\n",
    "# Based on the number of times the function b() is executed, the value of a increments by having a local variable assignment.\n"
   ]
  },
  {
   "cell_type": "markdown",
   "id": "bd089433",
   "metadata": {},
   "source": [
    "## Question 2: Raising Exception"
   ]
  },
  {
   "cell_type": "code",
   "execution_count": 4,
   "id": "41a66431",
   "metadata": {},
   "outputs": [
    {
     "name": "stdout",
     "output_type": "stream",
     "text": [
      "Enter the filename: bloodtype1.txt\n",
      "101\n",
      "Enter the filename: bloodtype.txt\n",
      "File bloodtype.txt not found.\n"
     ]
    }
   ],
   "source": [
    "def fileLength():\n",
    "    try:\n",
    "        filename = input('Enter the filename: ')\n",
    "        infile = open(filename, 'r')\n",
    "        content = infile.readline()\n",
    "        infile.close()\n",
    "        print(len(content))\n",
    "    except:\n",
    "        print(\"File \" + filename + \" not found.\")\n",
    "fileLength()\n",
    "fileLength()"
   ]
  },
  {
   "cell_type": "markdown",
   "id": "2e1a98ad",
   "metadata": {},
   "source": [
    "## Question 3: Subclass"
   ]
  },
  {
   "cell_type": "code",
   "execution_count": 9,
   "id": "b62c6f1f",
   "metadata": {},
   "outputs": [
    {
     "name": "stdout",
     "output_type": "stream",
     "text": [
      "I am a Kangaroo located at coordinates (0, 0)\n",
      "I am a Kangaroo located at coordinates (3, 0)\n"
     ]
    }
   ],
   "source": [
    "class Marsupial:\n",
    "    def __init__(self):\n",
    "        self.lst = []\n",
    "\n",
    "    def put_in_pouch(self, item):\n",
    "        return self.lst.append(item)\n",
    "\n",
    "    def pouch_contents(self):\n",
    "        return self.lst\n",
    "\n",
    "m = Marsupial()\n",
    "m.put_in_pouch('doll') \n",
    "m.put_in_pouch('firetruck') \n",
    "m.put_in_pouch('kitten') \n",
    "m.pouch_contents() \n",
    "\n",
    "#['doll', 'firetruck', 'kitten']\n",
    "\n",
    "class Kangaroo(Marsupial):\n",
    "    def __init__(self, x=0, y=0):\n",
    "        super().__init__()\n",
    "        self.x = x\n",
    "        self.y = y\n",
    "\n",
    "    def jump(self, dx, dy):\n",
    "        self.x += dx\n",
    "        self.y += dy\n",
    "\n",
    "    def __str__(self):\n",
    "        #print(\"I am a Kangaroo located at coordinates {}, {}.\".format(self.x,self.y))\n",
    "        return f\"I am a Kangaroo located at coordinates ({self.x}, {self.y})\"\n",
    "\n",
    "k = Kangaroo(0,0) \n",
    "print(k) \n",
    "k.put_in_pouch('doll') \n",
    "k.put_in_pouch('firetruck') \n",
    "k.put_in_pouch('kitten') \n",
    "k.pouch_contents()\n",
    "k.jump(1,0) \n",
    "k.jump(1,0) \n",
    "k.jump(1,0) \n",
    "print(k)"
   ]
  },
  {
   "cell_type": "markdown",
   "id": "f60571c5",
   "metadata": {},
   "source": [
    "## Question 4: Recursive"
   ]
  },
  {
   "cell_type": "code",
   "execution_count": 10,
   "id": "72f3880b",
   "metadata": {},
   "outputs": [
    {
     "name": "stdout",
     "output_type": "stream",
     "text": [
      "1\n",
      "10\n",
      "5\n",
      "16\n",
      "8\n",
      "4\n",
      "2\n",
      "1\n"
     ]
    }
   ],
   "source": [
    "def collatz(x):\n",
    "    print(x)\n",
    "    if x == 1:\n",
    "        return\n",
    "    elif x % 2 == 0:\n",
    "        collatz(x // 2)\n",
    "    else:\n",
    "        collatz((3*x)+1)\n",
    "collatz(1)\n",
    "collatz(10)"
   ]
  },
  {
   "cell_type": "markdown",
   "id": "009947bd",
   "metadata": {},
   "source": [
    "## Question 5: Recursive method binary"
   ]
  },
  {
   "cell_type": "code",
   "execution_count": 6,
   "id": "6be5280b",
   "metadata": {},
   "outputs": [
    {
     "name": "stdout",
     "output_type": "stream",
     "text": [
      "01111001"
     ]
    }
   ],
   "source": [
    "def binary(x):\n",
    "    if x > 1:\n",
    "        binary(x//2)\n",
    "    print(x%2, end ='')\n",
    "binary(0)\n",
    "binary(1)\n",
    "binary(3)\n",
    "binary(9)"
   ]
  },
  {
   "cell_type": "code",
   "execution_count": 8,
   "id": "68071e29",
   "metadata": {},
   "outputs": [
    {
     "name": "stdout",
     "output_type": "stream",
     "text": [
      "\n",
      "\n",
      "1\n",
      "11\n",
      "1001"
     ]
    }
   ],
   "source": [
    "#x = int(input('Enter the number: '))\n",
    "\n",
    "def binary(x):\n",
    "    if x > 0:\n",
    "        binary(x//2)\n",
    "        print(x%2, end ='')\n",
    "    else:\n",
    "        print('')\n",
    "binary(0)\n",
    "binary(1)\n",
    "binary(3)\n",
    "binary(9)"
   ]
  },
  {
   "cell_type": "markdown",
   "id": "1607f7cd",
   "metadata": {},
   "source": [
    "## Question 6: Heading Parser"
   ]
  },
  {
   "cell_type": "code",
   "execution_count": 12,
   "id": "93f4a05a",
   "metadata": {},
   "outputs": [],
   "source": [
    "from html.parser import HTMLParser\n",
    "\n",
    "class HeadingParser(HTMLParser):\n",
    "    def __init__(self):\n",
    "        HTMLParser.__init__(self)\n",
    "        self.indentation = 0\n",
    "        self.headings = []\n",
    "\n",
    "    def handle_starttag(self, tag, attrs):\n",
    "        if tag == 'a':\n",
    "            for attr in attrs:\n",
    "                if attr[0] == 'href':\n",
    "                    print(attr[1])\n",
    "\n",
    "    def handle_endtag(self, tag):\n",
    "        if tag.startswith(\"h\"):\n",
    "            self.indentation = 0\n",
    "            \n",
    "infile = open('w3c.html')\n",
    "content = infile.read()\n",
    "infile.close()\n",
    "hp = HeadingParser()\n",
    "hp.feed(content)"
   ]
  },
  {
   "cell_type": "markdown",
   "id": "dcda2b74",
   "metadata": {},
   "source": [
    "## Question 7: URL"
   ]
  },
  {
   "cell_type": "code",
   "execution_count": 1,
   "id": "e5a355e7",
   "metadata": {},
   "outputs": [],
   "source": [
    "import requests\n",
    "from urllib.parse import urljoin\n",
    "from html.parser import HTMLParser\n",
    "\n",
    "def extract_links(html):\n",
    "    import re\n",
    "    pattern = 'href'\n",
    "    return re.findall(pattern, html)\n",
    "\n",
    "def webdir(url, depth, indent):\n",
    "    if depth < 0:\n",
    "        return\n",
    "\n",
    "    response = requests.get(url)\n",
    "    if response.status_code == 200:\n",
    "        print(' ' * indent + url)\n",
    "\n",
    "        links = extract_links(response.text)\n",
    "        for link in links:\n",
    "            webdir(link, depth - 1, indent + 4)\n",
    "\n",
    "webdir('http://reed.cs.depaul.edu/lperkovic/csc242/test1.html', 2, 0)"
   ]
  },
  {
   "cell_type": "markdown",
   "id": "0c08893b",
   "metadata": {},
   "source": [
    "## Question 8: SQL Queries"
   ]
  },
  {
   "cell_type": "markdown",
   "id": "d96f52fd",
   "metadata": {},
   "source": [
    "## a) All the temperature data."
   ]
  },
  {
   "cell_type": "code",
   "execution_count": null,
   "id": "2d63533e",
   "metadata": {},
   "outputs": [],
   "source": [
    "%%sql \n",
    "SELECT [Temperature (C)] FROM Table"
   ]
  },
  {
   "cell_type": "markdown",
   "id": "ad5015a0",
   "metadata": {},
   "source": [
    "## b) All the cities, but without repetition.\n"
   ]
  },
  {
   "cell_type": "code",
   "execution_count": null,
   "id": "cc83e8eb",
   "metadata": {},
   "outputs": [],
   "source": [
    "%%sql \n",
    "SELECT DISTINCT City FROM Table"
   ]
  },
  {
   "cell_type": "markdown",
   "id": "f320b55c",
   "metadata": {},
   "source": [
    "## c) All the records for India.\n"
   ]
  },
  {
   "cell_type": "code",
   "execution_count": null,
   "id": "f65f8664",
   "metadata": {},
   "outputs": [],
   "source": [
    "%%sql \n",
    "SELECT * FROM Table\n",
    "WHERE Country = 'India'"
   ]
  },
  {
   "cell_type": "markdown",
   "id": "667b3c7b",
   "metadata": {},
   "source": [
    "## d) All the Fall records.\n"
   ]
  },
  {
   "cell_type": "code",
   "execution_count": null,
   "id": "85733f96",
   "metadata": {},
   "outputs": [],
   "source": [
    "%%sql \n",
    "SELECT * FROM Table\n",
    "WHERE Season = 'Fall'"
   ]
  },
  {
   "cell_type": "markdown",
   "id": "5a63a2bb",
   "metadata": {},
   "source": [
    "## e) The city, country, and season for which the average rainfall is between 200 and 400 millimeters.\n"
   ]
  },
  {
   "cell_type": "code",
   "execution_count": null,
   "id": "218a2808",
   "metadata": {},
   "outputs": [],
   "source": [
    "%%sql \n",
    "SELECT City, Country, Season FROM Table\n",
    "WHERE Avg([Rainfall (mm)]) BETWEEN 200 and 400"
   ]
  },
  {
   "cell_type": "markdown",
   "id": "98db1446",
   "metadata": {},
   "source": [
    "## f) The city and country for which the average Fall temperature is above 20 degrees, in increasing temperature order.\n"
   ]
  },
  {
   "cell_type": "code",
   "execution_count": null,
   "id": "b4b669d6",
   "metadata": {},
   "outputs": [],
   "source": [
    "%%sql \n",
    "SELECT City, Country FROM Table\n",
    "WHERE Season = 'Fall' and Avg([Temperature (C)]) > 20.0\n",
    "ORDER BY [Temperature (C)] ASC"
   ]
  },
  {
   "cell_type": "markdown",
   "id": "e76ab088",
   "metadata": {},
   "source": [
    "## g) The total annual rainfall for Cairo.\n"
   ]
  },
  {
   "cell_type": "code",
   "execution_count": null,
   "id": "f8d4401a",
   "metadata": {},
   "outputs": [],
   "source": [
    "%%sql \n",
    "SELECT SUM([Rainfall (mm)]) FROM Table\n",
    "WHERE City = 'Cairo'"
   ]
  },
  {
   "cell_type": "markdown",
   "id": "91ddfa19",
   "metadata": {},
   "source": [
    "## h) The total rainfall for each season."
   ]
  },
  {
   "cell_type": "code",
   "execution_count": null,
   "id": "57eefbc1",
   "metadata": {},
   "outputs": [],
   "source": [
    "%%sql \n",
    "SELECT Season, SUM([Rainfall (mm)]) FROM Table\n",
    "GROUP BY Season\n"
   ]
  },
  {
   "cell_type": "markdown",
   "id": "bef75162",
   "metadata": {},
   "source": [
    "## Question 9: List comprehension expressions"
   ]
  },
  {
   "cell_type": "code",
   "execution_count": 18,
   "id": "c9c33ac9",
   "metadata": {},
   "outputs": [
    {
     "name": "stdout",
     "output_type": "stream",
     "text": [
      "['THE', 'QUICK', 'BROWN', 'FOX', 'JUMPS', 'OVER', 'THE', 'LAZY', 'DOG']\n",
      "['the', 'quick', 'brown', 'fox', 'jumps', 'over', 'the', 'lazy', 'dog']\n",
      "[3, 5, 5, 3, 5, 4, 3, 4, 3]\n",
      "[['THE', 'the', 3], ['QUICK', 'quick', 5], ['BROWN', 'brown', 5], ['FOX', 'fox', 3], ['JUMPS', 'jumps', 5], ['OVER', 'over', 4], ['THE', 'the', 3], ['LAZY', 'lazy', 4], ['DOG', 'dog', 3]]\n",
      "['quick', 'brown', 'jumps', 'over', 'lazy']\n"
     ]
    }
   ],
   "source": [
    "words = ['The', 'quick', 'brown', 'fox', 'jumps', 'over', 'the', 'lazy', 'dog']\n",
    "#print(words)\n",
    "\n",
    "upperlist = [x.upper() for x in words]\n",
    "print(upperlist)\n",
    "\n",
    "lowerlist = [x.lower() for x in words]\n",
    "print(lowerlist)\n",
    "\n",
    "lengthlist = [len(x) for x in words]\n",
    "print(lengthlist)\n",
    "\n",
    "concatlist = [[x.upper(),x.lower(),len(x)] for x in words]\n",
    "print(concatlist)\n",
    "\n",
    "newlist = [x for x in words if len(x) >= 4]\n",
    "print(newlist)"
   ]
  },
  {
   "cell_type": "code",
   "execution_count": null,
   "id": "9d742890",
   "metadata": {},
   "outputs": [],
   "source": []
  }
 ],
 "metadata": {
  "kernelspec": {
   "display_name": "Python 3 (ipykernel)",
   "language": "python",
   "name": "python3"
  },
  "language_info": {
   "codemirror_mode": {
    "name": "ipython",
    "version": 3
   },
   "file_extension": ".py",
   "mimetype": "text/x-python",
   "name": "python",
   "nbconvert_exporter": "python",
   "pygments_lexer": "ipython3",
   "version": "3.10.9"
  }
 },
 "nbformat": 4,
 "nbformat_minor": 5
}
